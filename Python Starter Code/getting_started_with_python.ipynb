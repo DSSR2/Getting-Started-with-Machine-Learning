{
 "cells": [
  {
   "cell_type": "markdown",
   "metadata": {},
   "source": [
    "# An introduction to python coding\n",
    "\n",
    "### Packages to import."
   ]
  },
  {
   "cell_type": "code",
   "execution_count": 3,
   "metadata": {},
   "outputs": [],
   "source": [
    "import numpy as np\n",
    "import pandas as pd\n",
    "import matplotlib.pyplot as plt\n",
    "import scipy.optimize as op"
   ]
  },
  {
   "cell_type": "markdown",
   "metadata": {},
   "source": [
    "### **Loops** in python are described below. "
   ]
  },
  {
   "cell_type": "code",
   "execution_count": 4,
   "metadata": {},
   "outputs": [
    {
     "name": "stdout",
     "output_type": "stream",
     "text": [
      "0\n",
      "1\n",
      "2\n",
      "3\n",
      "4\n",
      "\n",
      "0\n",
      "1\n",
      "2\n",
      "3\n",
      "4\n",
      "\n",
      " 125\n"
     ]
    }
   ],
   "source": [
    "for i in range(0, 5):\n",
    "    print(i)\n",
    "\n",
    "print()    \n",
    "\n",
    "x = 0\n",
    "while(x < 5):\n",
    "    print(x)\n",
    "    x += 1\n",
    "    \n",
    "\n",
    "x = 5\n",
    "print('\\n', x ** 3)    # Use ** for powers."
   ]
  },
  {
   "cell_type": "markdown",
   "metadata": {},
   "source": [
    "### **Functions** in python are described below."
   ]
  },
  {
   "cell_type": "code",
   "execution_count": 5,
   "metadata": {},
   "outputs": [
    {
     "name": "stdout",
     "output_type": "stream",
     "text": [
      "Not prime\n"
     ]
    }
   ],
   "source": [
    "def is_prime(n):\n",
    "    num = n if n<9 else (int)(np.sqrt(n))\n",
    "    for i in range(2, num):\n",
    "        if(n%i==0):\n",
    "            print (\"Not prime\")\n",
    "            return\n",
    "    print(\"Prime\")\n",
    "    \n",
    "is_prime(87)     # Use any value to call the function and check if it works."
   ]
  },
  {
   "cell_type": "markdown",
   "metadata": {},
   "source": [
    "### **Plotting** in python."
   ]
  },
  {
   "cell_type": "code",
   "execution_count": 6,
   "metadata": {},
   "outputs": [
    {
     "data": {
      "image/png": "[encoded data removed]",
      "text/plain": [
       "<Figure size 432x288 with 1 Axes>"
      ]
     },
     "metadata": {},
     "output_type": "display_data"
    },
    {
     "name": "stdout",
     "output_type": "stream",
     "text": [
      "Shape of img:  (10, 10)\n"
     ]
    },
    {
     "data": {
      "image/png": "[encoded data removed]",
      "text/plain": [
       "<Figure size 432x288 with 1 Axes>"
      ]
     },
     "metadata": {},
     "output_type": "display_data"
    }
   ],
   "source": [
    "x = [np.random.randint(-5, 5) for i in range(10)]\n",
    "y = [i for i in range(10)]\n",
    "\n",
    "plt.scatter(x, y)\n",
    "plt.title(\"Graph\")\n",
    "plt.xlabel('X Axis')\n",
    "plt.ylabel('Y Axis')\n",
    "plt.show()\n",
    "\n",
    "img = np.random.randn(10,10)\n",
    "plt.imshow(img)\n",
    "print(\"Shape of img: \", img.shape)"
   ]
  },
  {
   "cell_type": "markdown",
   "metadata": {},
   "source": [
    "### **Pandas** the data scientists best friend."
   ]
  },
  {
   "cell_type": "code",
   "execution_count": 8,
   "metadata": {
    "scrolled": true
   },
   "outputs": [
    {
     "name": "stdout",
     "output_type": "stream",
     "text": [
      "   X  Y\n",
      "0  3  0\n",
      "1  2  1\n",
      "2  2  2 \n",
      "\n",
      "     Test 1   Test 2  QC_OK\n",
      "0  0.051267  0.69956      1\n",
      "1 -0.092742  0.68494      1\n",
      "2 -0.213710  0.69225      1\n",
      "\n",
      "0    1\n",
      "1    1\n",
      "2    1\n",
      "Name: QC_OK, dtype: int64 \n",
      "\n",
      "0    0.051267\n",
      "1   -0.092742\n",
      "2   -0.213710\n",
      "Name: Test 1, dtype: float64 \n",
      "\n",
      "Test 1   -0.37500\n",
      "Test 2    0.50219\n",
      "QC_OK     1.00000\n",
      "Name: 3, dtype: float64 \n",
      "\n",
      "     Test 1   Test 2  QC_OK\n",
      "0  0.051267  0.69956      1\n",
      "1 -0.092742  0.68494      1\n",
      "2 -0.213710  0.69225      1 \n",
      "\n",
      "     Test 1   Test 2  QC_OK\n",
      "58  0.18376  0.93348      0\n",
      "59  0.22408  0.77997      0\n",
      "60  0.29896  0.61915      0 \n",
      "\n",
      "     Test 1   Test 2\n",
      "0  0.051267  0.69956\n",
      "1 -0.092742  0.68494\n",
      "2 -0.213710  0.69225\n"
     ]
    }
   ],
   "source": [
    "data_frame1 = pd.DataFrame({'X': x, 'Y': y})    # Make a data frame with the data generated in the previous section.\n",
    "print(data_frame1.head(3), '\\n')    # array.head(n) prints the first n entries in the data frame.\n",
    "\n",
    "data_frame2 = pd.read_csv('../Data/Chips.csv')    # Simple function to read CSV data into a data frame.\n",
    "print(data_frame2.head(3))\n",
    "\n",
    "print()\n",
    "\n",
    "#Different indexing methods:\n",
    "print(data_frame2.QC_OK.head(3), '\\n')\n",
    "\n",
    "\n",
    "print(data_frame2['Test 1'].head(3), '\\n')\n",
    "\n",
    "\n",
    "print(data_frame2.iloc[3], '\\n')\n",
    "\n",
    "\n",
    "positive_mask = data_frame2.query(\"QC_OK == 1\")\n",
    "negative_mask = data_frame2.query(\"QC_OK == 0\")\n",
    "\n",
    "print(positive_mask.head(3), '\\n')\n",
    "print(negative_mask.head(3), '\\n')\n",
    "\n",
    "data_frame3 = data_frame2.drop('QC_OK', axis = 1)    # Drop the column named 'QC_OK'\n",
    "print(data_frame3.head(3))"
   ]
  },
  {
   "cell_type": "markdown",
   "metadata": {},
   "source": [
    "### A few important **numpy** methods."
   ]
  },
  {
   "cell_type": "code",
   "execution_count": 9,
   "metadata": {},
   "outputs": [
    {
     "name": "stdout",
     "output_type": "stream",
     "text": [
      "[[  7.55299514   4.36026867 -10.45156075   8.6782775    1.21932697\n",
      "   -4.50451161  -3.18910403   1.23034492   4.62398083  -0.95160618]\n",
      " [ -1.68299739  -2.93804922   1.95720451  -4.64299312  -2.0499191\n",
      "   -3.02817531   3.00088218   3.06485884  -3.65087284   2.11705949]\n",
      " [  5.32774571  10.90954492  -6.10027821  -5.11181081  -2.05881174\n",
      "   -6.70702052   0.01346598  -2.87871694   1.07490627  -1.61034175]\n",
      " [  1.55858822  -1.44756295   1.58208044  -4.04091996   2.01858397\n",
      "    1.37938576  -2.3554965   -2.19659394  -5.90559836  -5.81713476]\n",
      " [  1.08626592   0.32345831  -5.36588411  -2.00232142  -0.95725642\n",
      "   -5.63666979   0.67922906   6.2854986   -0.83555754   1.38635793]\n",
      " [  0.62043902  -0.50939183  -0.27486402   3.01174118   2.15379947\n",
      "   -2.8935758   -0.61284265   4.27922651  -1.38051007   0.2639637 ]\n",
      " [  1.12097265   5.05558557  -2.06474543  -4.50366769  -0.40600745\n",
      "   -3.54140237  -0.21107048  -0.77878051  -3.83528989  -2.71342784]\n",
      " [  1.61096744   2.1912287   -3.05174153  -0.74354568  -1.08761455\n",
      "   -3.21879223  -6.23110953   0.21980362  -2.23137771  -4.27919689]\n",
      " [  1.37542561  -4.78505914   5.04243962  -0.41202194   3.65755457\n",
      "    7.19183006   1.48193282  -4.98259969  -1.54755735  -2.89394526]\n",
      " [ -4.93879757   2.81987879  -0.73523424   1.57560273   1.37293993\n",
      "    3.66701786   1.55766961  -0.97724347   3.48385541   0.34215626]] \n",
      "\n",
      "[[  7.55299514   4.36026867 -10.45156075   8.6782775    1.21932697\n",
      "   -4.50451161  -3.18910403   1.23034492   4.62398083  -0.95160618]\n",
      " [ -1.68299739  -2.93804922   1.95720451  -4.64299312  -2.0499191\n",
      "   -3.02817531   3.00088218   3.06485884  -3.65087284   2.11705949]\n",
      " [  5.32774571  10.90954492  -6.10027821  -5.11181081  -2.05881174\n",
      "   -6.70702052   0.01346598  -2.87871694   1.07490627  -1.61034175]\n",
      " [  1.55858822  -1.44756295   1.58208044  -4.04091996   2.01858397\n",
      "    1.37938576  -2.3554965   -2.19659394  -5.90559836  -5.81713476]\n",
      " [  1.08626592   0.32345831  -5.36588411  -2.00232142  -0.95725642\n",
      "   -5.63666979   0.67922906   6.2854986   -0.83555754   1.38635793]\n",
      " [  0.62043902  -0.50939183  -0.27486402   3.01174118   2.15379947\n",
      "   -2.8935758   -0.61284265   4.27922651  -1.38051007   0.2639637 ]\n",
      " [  1.12097265   5.05558557  -2.06474543  -4.50366769  -0.40600745\n",
      "   -3.54140237  -0.21107048  -0.77878051  -3.83528989  -2.71342784]\n",
      " [  1.61096744   2.1912287   -3.05174153  -0.74354568  -1.08761455\n",
      "   -3.21879223  -6.23110953   0.21980362  -2.23137771  -4.27919689]\n",
      " [  1.37542561  -4.78505914   5.04243962  -0.41202194   3.65755457\n",
      "    7.19183006   1.48193282  -4.98259969  -1.54755735  -2.89394526]\n",
      " [ -4.93879757   2.81987879  -0.73523424   1.57560273   1.37293993\n",
      "    3.66701786   1.55766961  -0.97724347   3.48385541   0.34215626]] \n",
      "\n",
      "(10, 10) \n",
      "\n",
      "(5, 20) \n",
      "\n",
      "(100,) \n",
      "\n",
      "1.0 \n",
      "\n",
      "3.0 \n",
      "\n",
      "[[1.29529629 1.59371294 0.94813522 1.13600156        nan 0.63658191\n",
      "  0.90062812        nan        nan        nan]\n",
      " [       nan        nan        nan        nan 1.14229453        nan\n",
      "         nan        nan 0.9779675         nan]\n",
      " [       nan 1.33256269 0.41670075 1.32688393 1.16982626 1.60531534\n",
      "         nan 0.97584272 0.0656731         nan]\n",
      " [       nan        nan 0.67511078        nan 0.54347604        nan\n",
      "  1.01067955 1.12560505 1.33297857        nan]\n",
      " [0.78018012 0.32761043 0.66933247 0.50139493 0.58814991        nan\n",
      "         nan        nan 0.83186865        nan]\n",
      " [0.92775775 0.19480664        nan        nan        nan        nan\n",
      "         nan        nan        nan        nan]\n",
      " [       nan        nan        nan 1.31634954 0.90857761 0.49295152\n",
      "         nan 0.84747578 0.81242201        nan]\n",
      " [       nan 0.30224627        nan 1.07803002        nan 0.98395558\n",
      "  1.28428047 0.89831483        nan        nan]\n",
      " [       nan        nan 1.08474199        nan 1.28896388        nan\n",
      "  1.12649064 1.00994363 0.85183911 0.97808297]\n",
      " [0.9392919  0.69502965 1.15904872        nan        nan 0.48226895\n",
      "         nan 0.75311554 1.00588393 1.16684436]] \n",
      "\n",
      "-1 \n",
      "\n",
      "[[-0.94571475 -1.26066995  0.90223215  0.18437599 -1.96595058]\n",
      " [ 2.14461505 -1.81558833  0.0282251   2.29665412 -0.06202115]\n",
      " [ 0.30886551 -0.93277838  2.39220015  0.91621853 -0.72640464]\n",
      " [ 0.37277369  0.11587834 -1.62089383  0.64804415 -0.02821874]\n",
      " [-0.27695118 -1.81663162  0.68385255 -0.30380495  0.60757979]] \n",
      "\n",
      "[[1 3]\n",
      " [2 4]] \n",
      "\n",
      "[[1 3]\n",
      " [2 4]]\n"
     ]
    },
    {
     "name": "stderr",
     "output_type": "stream",
     "text": [
      "c:\\users\\shantanu singh\\appdata\\local\\programs\\python\\python35\\lib\\site-packages\\ipykernel_launcher.py:18: RuntimeWarning: invalid value encountered in sqrt\n"
     ]
    }
   ],
   "source": [
    "M1 = np.random.randn(10, 10)    # Numpy.random.randn(a, b) creates an a*b matrix populated with random numbers.\n",
    "M2 = np.random.randn(10, 10)\n",
    "print(np.dot(M1, M2),'\\n')   # Perfroms dot product of the two matrices passed.\n",
    "print(M1.dot(M2), '\\n')\n",
    "print(M1.shape, '\\n')\n",
    "\n",
    "M3 = M1.reshape(5,20)    # Used to change the dimensions of matrices.\n",
    "print(M3.shape, '\\n')\n",
    "\n",
    "M4 = M3.ravel()    # Converts any shape matrix into a column matrix.\n",
    "print(M4.shape, '\\n')\n",
    "\n",
    "\n",
    "print(np.log(np.exp(1)), '\\n')# Find the natural log of the parameter passed.\n",
    "\n",
    "print(np.sqrt(9), '\\n')    # Find the square root of the parameter passed.\n",
    "\n",
    "print(np.sqrt(M1), '\\n')   # If a matrix is passed as the argunent, element wise square root is performed\n",
    "\n",
    "print(np.random.randint(-5, 5), '\\n')    # Provide one random number which lies in between the range specified.\n",
    "\n",
    "print(np.random.randn(5, 5), '\\n')    # Makes an array with the dimensions mentioned, filled with random numbers. \n",
    "\n",
    "M4 = np.array([[1,2],[3,4]])\n",
    "print(M4.T, '\\n')    # Transpose of a matrix.\n",
    "print(np.transpose(M4))"
   ]
  },
  {
   "cell_type": "code",
   "execution_count": null,
   "metadata": {},
   "outputs": [],
   "source": []
  }
 ],
 "metadata": {
  "kernelspec": {
   "display_name": "Python 3",
   "language": "python",
   "name": "python3"
  },
  "language_info": {
   "codemirror_mode": {
    "name": "ipython",
    "version": 3
   },
   "file_extension": ".py",
   "mimetype": "text/x-python",
   "name": "python",
   "nbconvert_exporter": "python",
   "pygments_lexer": "ipython3",
   "version": "3.5.0"
  }
 },
 "nbformat": 4,
 "nbformat_minor": 2
}
