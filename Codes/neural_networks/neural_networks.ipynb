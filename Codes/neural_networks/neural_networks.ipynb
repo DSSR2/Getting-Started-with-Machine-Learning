{
 "cells": [
  {
   "cell_type": "markdown",
   "metadata": {},
   "source": [
    "# Neural Networks\n",
    "\n",
    "Welcome to this exercise. We'll see how to recognize digits using the [MNIST](http://yann.lecun.com/exdb/mnist/) dataset! <br>\n",
    "Don't worry if you don't understand most of the code! You'll get there soon. <br>\n",
    "We will write some GUI for the interface and some cool neural network! <br>\n",
    "\n",
    "### Let's get started!"
   ]
  },
  {
   "cell_type": "code",
   "execution_count": 1,
   "metadata": {},
   "outputs": [
    {
     "name": "stderr",
     "output_type": "stream",
     "text": [
      "Using TensorFlow backend.\n"
     ]
    }
   ],
   "source": [
    "# set warnings off\n",
    "import warnings\n",
    "warnings.filterwarnings(\"ignore\", message=\"numpy.dtype size changed\")\n",
    "# imports\n",
    "import numpy as np\n",
    "import tkinter as tk\n",
    "import matplotlib.pyplot as plt\n",
    "from keras.datasets import mnist\n",
    "from keras.utils import np_utils\n",
    "from keras.models import Sequential\n",
    "from keras.layers import Dense\n",
    "from keras.preprocessing.image import img_to_array\n",
    "from random import randrange\n",
    "from PIL import Image, ImageDraw"
   ]
  },
  {
   "cell_type": "markdown",
   "metadata": {},
   "source": [
    "We just imported the required modules. It's time to load the dataset!"
   ]
  },
  {
   "cell_type": "code",
   "execution_count": 2,
   "metadata": {},
   "outputs": [],
   "source": [
    "# seed is to ensure that we generate the same stuff every time\n",
    "seed = 7\n",
    "np.random.seed(seed)\n",
    "\n",
    "# load data\n",
    "(X_train, y_train), (X_test, y_test) = mnist.load_data()\n",
    "num_pixels = X_train.shape[1] * X_train.shape[2]"
   ]
  },
  {
   "cell_type": "markdown",
   "metadata": {},
   "source": [
    "Wait, we just loaded the dataset, but we don't know what it looks like yet! Run the snippet below to see 9 random images from the dataset."
   ]
  },
  {
   "cell_type": "code",
   "execution_count": 3,
   "metadata": {},
   "outputs": [
    {
     "data": {
      "text/plain": [
       "(28, 28)"
      ]
     },
     "execution_count": 3,
     "metadata": {},
     "output_type": "execute_result"
    }
   ],
   "source": [
    "X_train[1].shape"
   ]
  },
  {
   "cell_type": "code",
   "execution_count": 4,
   "metadata": {},
   "outputs": [
    {
     "data": {
      "image/png": "[encoded data removed]",
      "text/plain": [
       "<Figure size 432x288 with 9 Axes>"
      ]
     },
     "metadata": {},
     "output_type": "display_data"
    }
   ],
   "source": [
    "num_plot = 9\n",
    "# plot random figures\n",
    "for i in range(num_plot):\n",
    "    plt.subplot(num_plot**0.5, num_plot**0.5, i+1)\n",
    "    plt.imshow(X_train[randrange(len(X_train))], cmap=plt.get_cmap(\"gray\"))\n",
    "plt.show()"
   ]
  },
  {
   "cell_type": "markdown",
   "metadata": {},
   "source": [
    "This data is raw and cannot be straightaway fed to our network. We need to preprocess it first!"
   ]
  },
  {
   "cell_type": "code",
   "execution_count": 5,
   "metadata": {},
   "outputs": [],
   "source": [
    "# flatten images to vector\n",
    "X_train = X_train.reshape(X_train.shape[0], num_pixels).astype(\"float32\")\n",
    "X_test = X_test.reshape(X_test.shape[0], num_pixels).astype(\"float32\")\n",
    "\n",
    "# normalize inputs\n",
    "X_train = X_train/255\n",
    "X_test = X_test/255\n",
    "\n",
    "# one hot encoding\n",
    "y_train = np_utils.to_categorical(y_train)\n",
    "y_test = np_utils.to_categorical(y_test)\n",
    "num_classes = y_train.shape[1]"
   ]
  },
  {
   "cell_type": "markdown",
   "metadata": {},
   "source": [
    "We now need to define a neural network to run this stuff! Let's create a basic network with Keras!"
   ]
  },
  {
   "cell_type": "code",
   "execution_count": 6,
   "metadata": {},
   "outputs": [
    {
     "name": "stdout",
     "output_type": "stream",
     "text": [
      "_________________________________________________________________\n",
      "Layer (type)                 Output Shape              Param #   \n",
      "=================================================================\n",
      "dense_1 (Dense)              (None, 256)               200960    \n",
      "_________________________________________________________________\n",
      "dense_2 (Dense)              (None, 256)               65792     \n",
      "_________________________________________________________________\n",
      "dense_3 (Dense)              (None, 10)                2570      \n",
      "=================================================================\n",
      "Total params: 269,322\n",
      "Trainable params: 269,322\n",
      "Non-trainable params: 0\n",
      "_________________________________________________________________\n"
     ]
    }
   ],
   "source": [
    "# create\n",
    "model = Sequential()\n",
    "\n",
    "model.add(Dense(256, input_dim=num_pixels, kernel_initializer='normal', activation='relu'))\n",
    "model.add(Dense(256, kernel_initializer='normal', activation='relu'))\n",
    "model.add(Dense(num_classes, kernel_initializer='normal', activation='softmax'))\n",
    "\n",
    "# compile\n",
    "model.compile(loss='categorical_crossentropy', optimizer='adam', metrics=['accuracy'])\n",
    "model.summary()"
   ]
  },
  {
   "cell_type": "markdown",
   "metadata": {},
   "source": [
    "We have defined our neural network. Here's a [tool](http://alexlenail.me/NN-SVG/index.html) to visualize it! <br>\n",
    "If we had images of 4x4 pixels with hidden layers of 12 nodes, the neural network would look like this:<br>\n",
    "![image](../../Media/neural_networks.png) <br>\n",
    "Next, we will train the model on the preprocessed data!"
   ]
  },
  {
   "cell_type": "code",
   "execution_count": 7,
   "metadata": {
    "scrolled": true
   },
   "outputs": [
    {
     "name": "stdout",
     "output_type": "stream",
     "text": [
      "Train on 60000 samples, validate on 10000 samples\n",
      "Epoch 1/10\n",
      " - 5s - loss: 0.3360 - acc: 0.9070 - val_loss: 0.1505 - val_acc: 0.9549\n",
      "Epoch 2/10\n",
      " - 3s - loss: 0.1203 - acc: 0.9644 - val_loss: 0.1094 - val_acc: 0.9651\n",
      "Epoch 3/10\n",
      " - 4s - loss: 0.0773 - acc: 0.9771 - val_loss: 0.0774 - val_acc: 0.9759\n",
      "Epoch 4/10\n",
      " - 4s - loss: 0.0536 - acc: 0.9839 - val_loss: 0.0678 - val_acc: 0.9777\n",
      "Epoch 5/10\n",
      " - 4s - loss: 0.0410 - acc: 0.9872 - val_loss: 0.0762 - val_acc: 0.9763\n",
      "Epoch 6/10\n",
      " - 5s - loss: 0.0299 - acc: 0.9906 - val_loss: 0.0684 - val_acc: 0.9784\n",
      "Epoch 7/10\n",
      " - 4s - loss: 0.0239 - acc: 0.9924 - val_loss: 0.0675 - val_acc: 0.9785\n",
      "Epoch 8/10\n",
      " - 3s - loss: 0.0181 - acc: 0.9944 - val_loss: 0.0817 - val_acc: 0.9785\n",
      "Epoch 9/10\n",
      " - 3s - loss: 0.0144 - acc: 0.9958 - val_loss: 0.0847 - val_acc: 0.9789\n",
      "Epoch 10/10\n",
      " - 4s - loss: 0.0121 - acc: 0.9961 - val_loss: 0.0715 - val_acc: 0.9813\n",
      "Error: 1.87%\n"
     ]
    }
   ],
   "source": [
    "model.fit(X_train, y_train,\n",
    "          validation_data=(X_test, y_test),\n",
    "          epochs=10,\n",
    "          batch_size=200,\n",
    "          verbose=2)\n",
    "\n",
    "scores = model.evaluate(X_test, y_test, verbose=0)\n",
    "print(\"Error: %.2f%%\" % (100-scores[1]*100))"
   ]
  },
  {
   "cell_type": "markdown",
   "metadata": {},
   "source": [
    "Here's a simple app to draw stuff on and predict the digit!"
   ]
  },
  {
   "cell_type": "code",
   "execution_count": 8,
   "metadata": {},
   "outputs": [],
   "source": [
    "class RecognizerApp:\n",
    "    \n",
    "    def __init__(self, model):\n",
    "        self.DRAWING_AREA = (280, 280)\n",
    "        self.predictions = [0 for x in range(10)]\n",
    "        self.model = model\n",
    "        self.first = False\n",
    "        self.image = self.new_image()\n",
    "        self.drawer = ImageDraw.Draw(self.image)\n",
    "        # create the canvas\n",
    "        master = tk.Tk()\n",
    "        master.title(\"Digit recognizer\")\n",
    "        clear = tk.Button(master, text=\"CLEAR\", command=self._clear_)\n",
    "        clear.pack(side=tk.BOTTOM)\n",
    "        self.canvas = tk.Canvas(master,\n",
    "                   width=self.DRAWING_AREA[0],\n",
    "                   height=self.DRAWING_AREA[1])\n",
    "        self.canvas.configure(background=\"black\")\n",
    "        self.canvas.pack()\n",
    "        self.canvas.bind(\"<B1-Motion>\", self._paint_)\n",
    "        self.canvas.bind(\"<ButtonRelease-1>\", self._update_)\n",
    "    \n",
    "    def config_plot(self):\n",
    "        plt.xlabel('Digits')\n",
    "        plt.ylabel('Probability')\n",
    "        plt.title('Predictions')\n",
    "        plt.bar(range(0, 10), recognizer.get_predictions())\n",
    "        plt.show()\n",
    "        self.first = False\n",
    "        \n",
    "    def new_image(self):\n",
    "        return Image.new(\"L\", self.DRAWING_AREA)\n",
    "\n",
    "    def _paint_(self, event):\n",
    "        x1, y1 = (event.x - 5), (event.y - 5)\n",
    "        x2, y2 = (event.x + 5), (event.y + 5)\n",
    "        \n",
    "        self.canvas.create_oval(x1, y1, x2, y2, fill=\"#FFFFFF\", outline=\"\")\n",
    "        self.drawer.ellipse([x1, y1, x2, y2], fill=255, outline=255)\n",
    "        \n",
    "        temp_image = self.image.copy()\n",
    "        temp_image.thumbnail((28, 28), Image.ANTIALIAS)\n",
    "        temp_image = img_to_array(temp_image)\n",
    "        temp_image = np.reshape(temp_image, (1, 28 * 28))\n",
    "        \n",
    "        self.predictions = self.model.predict(temp_image)[0].tolist()\n",
    "\n",
    "    def _update_(self, event):\n",
    "        if self.first:\n",
    "            self.config_plot()\n",
    "        else:\n",
    "            plt.cla()\n",
    "            plt.bar(range(0, 10), self.predictions)\n",
    "            plt.draw()\n",
    "\n",
    "    def _clear_(self):\n",
    "        if self.first:\n",
    "            self.config_plot()\n",
    "        else:\n",
    "            self.canvas.delete(\"all\")\n",
    "            self.predictions = [0 for x in range(10)]\n",
    "            self.image = self.new_image()\n",
    "            self.drawer = ImageDraw.Draw(self.image)\n",
    "            plt.cla()\n",
    "            plt.draw()\n",
    "        \n",
    "    def get_predictions(self):\n",
    "        return self.predictions\n",
    "    \n",
    "    def mainloop(self):\n",
    "        tk.mainloop()"
   ]
  },
  {
   "cell_type": "code",
   "execution_count": 9,
   "metadata": {},
   "outputs": [
    {
     "data": {
      "image/png": "[encoded data removed]",
      "text/plain": [
       "<Figure size 432x288 with 1 Axes>"
      ]
     },
     "metadata": {},
     "output_type": "display_data"
    }
   ],
   "source": [
    "recognizer = RecognizerApp(model)\n",
    "recognizer.mainloop()"
   ]
  }
 ],
 "metadata": {
  "kernelspec": {
   "display_name": "Python 3",
   "language": "python",
   "name": "python3"
  },
  "language_info": {
   "codemirror_mode": {
    "name": "ipython",
    "version": 3
   },
   "file_extension": ".py",
   "mimetype": "text/x-python",
   "name": "python",
   "nbconvert_exporter": "python",
   "pygments_lexer": "ipython3",
   "version": "3.6.5"
  }
 },
 "nbformat": 4,
 "nbformat_minor": 2
}
