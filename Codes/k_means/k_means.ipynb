{
 "cells": [
  {
   "cell_type": "markdown",
   "metadata": {},
   "source": [
    "# UNSUPERVISED LEARNING\n",
    "\n",
    "*k-means* is an unsupervised learning algorithm, used to identify clusters in a dataset. Given *k*, the number of clusters to be identified, the algorithm labels the dataset into classes.\n",
    "\n",
    "**Algorithm**:\n",
    "* Initialize *k* cluster centroids\n",
    "* Repeat\n",
    "    1. Cluster assignment: Assign each observation to the cluster whose mean has the least squared Euclidean distance, this is intuitively the \"nearest\" mean.\n",
    "    2. Cluster updation: Calculate the new means to be the centroids of the observations in the new clusters.\n",
    "    \n",
    "The algorithm converges when cluster assignments no longer change. Since the results highly depend on the initialization step, we can run the algorithm multiple times with different initialization values and take the average of the results.\n",
    "\n",
    "Mathematically, given a set of observations $(x^{(1)}, x^{(2)}, ..., x^{(m)})$, where $x^{(i)} \\in \\mathcal{R}^n$, our target is to partition the *m* observations into *K* clusters so as to minimize the within-cluster sum of squares (variance).\n",
    "\n",
    "\n",
    "We randomly initialize *K* cluster centroids $\\mu_1, \\mu_2, ..., \\mu_K \\in \\mathcal{R}^n$.\n",
    "\n",
    "Cluster assignment step: $c^{(i)} = \\operatorname*{argmin}_k ||x^{(i)} - \\mu_k ||^2$\n",
    "\n",
    "Cluster updation step: $\\mu_k = \\frac{1}{s}[x^{k_1} + ... + x^{k_s}]$ where $s$ is the number of observations in cluster $k$ and $x^{k_y}$ is the $y^{th}$ observation assigned to centroid $\\mu_k$."
   ]
  },
  {
   "cell_type": "markdown",
   "metadata": {},
   "source": [
    "Let's head over to start implementing it in python. We will use the famous dataset [Iris](https://en.wikipedia.org/wiki/Iris_flower_data_set) for this exercise.\n"
   ]
  },
  {
   "cell_type": "code",
   "execution_count": 1,
   "metadata": {},
   "outputs": [],
   "source": [
    "import numpy as np\n",
    "import pandas as pd\n",
    "import matplotlib.pyplot as plt"
   ]
  },
  {
   "cell_type": "markdown",
   "metadata": {},
   "source": [
    "We shall describe the data and see how it looks like. We will use the features *Sepal width* and *Sepal height* to distinguish between the species. "
   ]
  },
  {
   "cell_type": "code",
   "execution_count": 2,
   "metadata": {},
   "outputs": [
    {
     "data": {
      "text/html": [
       "<div>\n",
       "<style scoped>\n",
       "    .dataframe tbody tr th:only-of-type {\n",
       "        vertical-align: middle;\n",
       "    }\n",
       "\n",
       "    .dataframe tbody tr th {\n",
       "        vertical-align: top;\n",
       "    }\n",
       "\n",
       "    .dataframe thead th {\n",
       "        text-align: right;\n",
       "    }\n",
       "</style>\n",
       "<table border=\"1\" class=\"dataframe\">\n",
       "  <thead>\n",
       "    <tr style=\"text-align: right;\">\n",
       "      <th></th>\n",
       "      <th>SepalLengthCm</th>\n",
       "      <th>SepalWidthCm</th>\n",
       "      <th>PetalLengthCm</th>\n",
       "      <th>PetalWidthCm</th>\n",
       "      <th>Species</th>\n",
       "    </tr>\n",
       "    <tr>\n",
       "      <th>Id</th>\n",
       "      <th></th>\n",
       "      <th></th>\n",
       "      <th></th>\n",
       "      <th></th>\n",
       "      <th></th>\n",
       "    </tr>\n",
       "  </thead>\n",
       "  <tbody>\n",
       "    <tr>\n",
       "      <th>1</th>\n",
       "      <td>5.1</td>\n",
       "      <td>3.5</td>\n",
       "      <td>1.4</td>\n",
       "      <td>0.2</td>\n",
       "      <td>Iris-setosa</td>\n",
       "    </tr>\n",
       "    <tr>\n",
       "      <th>2</th>\n",
       "      <td>4.9</td>\n",
       "      <td>3.0</td>\n",
       "      <td>1.4</td>\n",
       "      <td>0.2</td>\n",
       "      <td>Iris-setosa</td>\n",
       "    </tr>\n",
       "    <tr>\n",
       "      <th>3</th>\n",
       "      <td>4.7</td>\n",
       "      <td>3.2</td>\n",
       "      <td>1.3</td>\n",
       "      <td>0.2</td>\n",
       "      <td>Iris-setosa</td>\n",
       "    </tr>\n",
       "    <tr>\n",
       "      <th>4</th>\n",
       "      <td>4.6</td>\n",
       "      <td>3.1</td>\n",
       "      <td>1.5</td>\n",
       "      <td>0.2</td>\n",
       "      <td>Iris-setosa</td>\n",
       "    </tr>\n",
       "    <tr>\n",
       "      <th>5</th>\n",
       "      <td>5.0</td>\n",
       "      <td>3.6</td>\n",
       "      <td>1.4</td>\n",
       "      <td>0.2</td>\n",
       "      <td>Iris-setosa</td>\n",
       "    </tr>\n",
       "  </tbody>\n",
       "</table>\n",
       "</div>"
      ],
      "text/plain": [
       "    SepalLengthCm  SepalWidthCm  PetalLengthCm  PetalWidthCm      Species\n",
       "Id                                                                       \n",
       "1             5.1           3.5            1.4           0.2  Iris-setosa\n",
       "2             4.9           3.0            1.4           0.2  Iris-setosa\n",
       "3             4.7           3.2            1.3           0.2  Iris-setosa\n",
       "4             4.6           3.1            1.5           0.2  Iris-setosa\n",
       "5             5.0           3.6            1.4           0.2  Iris-setosa"
      ]
     },
     "execution_count": 2,
     "metadata": {},
     "output_type": "execute_result"
    }
   ],
   "source": [
    "# load data\n",
    "df = pd.read_csv(\"../../Data/Iris.csv\", index_col='Id')\n",
    "df.head()"
   ]
  },
  {
   "cell_type": "code",
   "execution_count": 3,
   "metadata": {},
   "outputs": [
    {
     "data": {
      "image/png": "[encoded data removed]",
      "text/plain": [
       "<Figure size 432x288 with 1 Axes>"
      ]
     },
     "metadata": {},
     "output_type": "display_data"
    }
   ],
   "source": [
    "# visualize\n",
    "X = np.array(df[['SepalLengthCm', 'SepalWidthCm']])\n",
    "plt.scatter(X[:, 0], X[:, 1])\n",
    "plt.xlabel(\"SepalLengthCm\", fontsize=18)\n",
    "plt.ylabel(\"SepalWidthCm\", fontsize=18)\n",
    "plt.show()"
   ]
  },
  {
   "cell_type": "markdown",
   "metadata": {},
   "source": [
    "## k-means\n",
    "\n",
    "Let's write some helper functions!"
   ]
  },
  {
   "cell_type": "code",
   "execution_count": 4,
   "metadata": {},
   "outputs": [],
   "source": [
    "def initialize_centroids(k):\n",
    "    \"\"\" get random points \"\"\"\n",
    "    return np.array([list(X[np.random.randint(X.shape[0])]) for _ in range(k)])    \n",
    "\n",
    "def get_closest_centroid(points, centroids):\n",
    "    \"\"\" Euclidean distance \"\"\"\n",
    "    distance = [np.sqrt(((points - centroid)**2).sum(axis=1)) for centroid in centroids]\n",
    "    return np.argmin(distance, axis=0)"
   ]
  },
  {
   "cell_type": "markdown",
   "metadata": {},
   "source": [
    "Usually when we have some data, the number of categories is unknown. In that case, we need to run for different values of k and fix one accordingly. We will cover that aspect later. For now, we know that the number of species in the dataset. Fixing k as the number of species, let's run the algorithm."
   ]
  },
  {
   "cell_type": "code",
   "execution_count": 5,
   "metadata": {},
   "outputs": [],
   "source": [
    "species = np.array(df.Species.unique())\n",
    "\n",
    "k = len(species)\n",
    "maxiters = 100\n",
    "\n",
    "# choose random centroids\n",
    "centroids = initialize_centroids(k)"
   ]
  },
  {
   "cell_type": "code",
   "execution_count": 6,
   "metadata": {},
   "outputs": [
    {
     "data": {
      "image/png": "[encoded data removed]",
      "text/plain": [
       "<Figure size 432x288 with 1 Axes>"
      ]
     },
     "metadata": {},
     "output_type": "display_data"
    }
   ],
   "source": [
    "plt.scatter(X[:, 0], X[:, 1])\n",
    "plt.scatter(centroids[:, 0], centroids[:, 1], c='red')\n",
    "plt.xlabel(\"SepalLengthCm\", fontsize=18)\n",
    "plt.ylabel(\"SepalWidthCm\", fontsize=18)\n",
    "plt.show()"
   ]
  },
  {
   "cell_type": "markdown",
   "metadata": {},
   "source": [
    "Now that we have some random starting point for centroids, we will see how k-means performs!"
   ]
  },
  {
   "cell_type": "code",
   "execution_count": 7,
   "metadata": {},
   "outputs": [],
   "source": [
    "for _ in range(maxiters):\n",
    "    # cluster assignment\n",
    "    idx = get_closest_centroid(X, centroids)\n",
    "    for c in range(k):\n",
    "        # cluster updation\n",
    "        centroids[c] = np.mean(X[idx == c], 0)"
   ]
  },
  {
   "cell_type": "code",
   "execution_count": 8,
   "metadata": {},
   "outputs": [
    {
     "data": {
      "image/png": "[encoded data removed]",
      "text/plain": [
       "<Figure size 432x288 with 1 Axes>"
      ]
     },
     "metadata": {},
     "output_type": "display_data"
    }
   ],
   "source": [
    "colors = ['coral', 'lightgreen', 'skyblue']\n",
    "\n",
    "centroid_colors = ['r','g','b']\n",
    "for i in range(k):\n",
    "    plt.scatter(X[idx == i][:, 0], X[idx == i][:, 1], color=colors[i], label=species[i])\n",
    "plt.scatter(centroids[:, 0], centroids[:, 1], c=centroid_colors)\n",
    "plt.xlabel(\"SepalLengthCm\", fontsize=18)\n",
    "plt.ylabel(\"SepalWidthCm\", fontsize=18)\n",
    "plt.legend(loc=\"upper left\")\n",
    "plt.show()"
   ]
  },
  {
   "cell_type": "markdown",
   "metadata": {},
   "source": [
    "## Conclusion\n",
    "\n",
    "We saw how k-means can be used for partioning data. We shall see a very interesting example in the next exercise."
   ]
  }
 ],
 "metadata": {
  "kernelspec": {
   "display_name": "Python 3",
   "language": "python",
   "name": "python3"
  },
  "language_info": {
   "codemirror_mode": {
    "name": "ipython",
    "version": 3
   },
   "file_extension": ".py",
   "mimetype": "text/x-python",
   "name": "python",
   "nbconvert_exporter": "python",
   "pygments_lexer": "ipython3",
   "version": "3.6.5"
  }
 },
 "nbformat": 4,
 "nbformat_minor": 1
}
